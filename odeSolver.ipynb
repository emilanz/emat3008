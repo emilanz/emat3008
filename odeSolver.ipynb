{
 "cells": [
  {
   "cell_type": "code",
   "execution_count": 1,
   "id": "forward-hurricane",
   "metadata": {},
   "outputs": [],
   "source": [
    "import numpy as np\n",
    "import matplotlib.pyplot as plt\n",
    "import sys"
   ]
  },
  {
   "cell_type": "code",
   "execution_count": 2,
   "id": "spread-appointment",
   "metadata": {},
   "outputs": [],
   "source": [
    "def euler_step(f, xn, tn, delta_t):\n",
    "    '''f is the right hand side of first order ODE x_dot = f \n",
    "       xn is the inital x value\n",
    "       t is the timestep\n",
    "       tn is initial t value'''\n",
    "    xn = xn + f(xn, tn)*delta_t\n",
    "    return xn"
   ]
  },
  {
   "cell_type": "code",
   "execution_count": 3,
   "id": "asian-terrorism",
   "metadata": {},
   "outputs": [],
   "source": [
    "def solve_to(xn, tn, tf, delta_tmax,f, method):\n",
    "    \n",
    "    #differentiating euler or rk4\n",
    "    if method in ('euler', 'Euler', 'e', 'E'):\n",
    "        step_function = euler_step\n",
    "    elif method in ('rk', 'RK', 'r', 'Runge-Kutta 4', 'RK4', 'runge-kutta4', 'rk4'):\n",
    "        step_function = RK4_step\n",
    "    \n",
    "    #looping until x(1) found\n",
    "    while tn + delta_tmax < tf: \n",
    "        xn = step_function(f, xn, tn, delta_tmax)\n",
    "        tn += delta_tmax\n",
    "    else:          '''to find smaller step size when t exceeds 1 '''\n",
    "        diff = 1 - tn\n",
    "        newdelta_tmax = diff\n",
    "        tn += diff\n",
    "        xn = step_function(f, xn, tf, newdelta_tmax)\n",
    "        return xn\n",
    "    "
   ]
  },
  {
   "cell_type": "code",
   "execution_count": 4,
   "id": "relevant-registration",
   "metadata": {},
   "outputs": [],
   "source": [
    "def solve_ode(f, x0, t0, tf, delta_t, method):\n",
    "    estimation = solve_to(x0,t0,tf,delta_t,f, method)\n",
    "    print(estimation)\n",
    "    error = (np.exp(tf) - estimation)/np.exp(tf) *100\n",
    "    return(error)"
   ]
  },
  {
   "cell_type": "code",
   "execution_count": 5,
   "id": "modular-airplane",
   "metadata": {},
   "outputs": [],
   "source": [
    "def RK4_step(f, xn, tn, delta_t): \n",
    "    k1 = delta_t*f(xn, tn) \n",
    "    k2 = delta_t*f(xn + 0.5 * k1 , tn + 0.5 * delta_t) \n",
    "    k3 = delta_t*f(xn + 0.5 * k2 , tn + 0.5 * delta_t) \n",
    "    k4 = delta_t*f(xn + k3, tn + delta_t) \n",
    "   \n",
    "    xn = xn + (1.0/6.0)*(k1 + 2 * k2 + 2 * k3 + k4) \n",
    "    return (xn)"
   ]
  },
  {
   "cell_type": "code",
   "execution_count": 6,
   "id": "processed-marijuana",
   "metadata": {},
   "outputs": [
    {
     "data": {
      "text/plain": [
       "1.2214"
      ]
     },
     "execution_count": 6,
     "metadata": {},
     "output_type": "execute_result"
    }
   ],
   "source": [
    "RK4_step(lambda x,t: x, 1, 0, 0.2)"
   ]
  },
  {
   "cell_type": "code",
   "execution_count": 7,
   "id": "explicit-nigeria",
   "metadata": {},
   "outputs": [],
   "source": [
    "#(f, x0, t0, tf, delta_t, method):\n",
    "\n",
    "def main():\n",
    "    if __name__ == \"__main__\":\n",
    "        #f =  float(input('What is your dx/dt?'))\n",
    "        x0 = float(input('What is your initial x value?'))\n",
    "        t0 = float(input('What is your initial t value?'))\n",
    "        tf = float(input('What is your final t value?'))\n",
    "        delta_t = float(input('What is your timestep?'))\n",
    "        method = str(input('Would you like to use Euler method or Runge-Kutta 4?'))\n",
    "        solve_ode(lambda x,t: x, x0, t0, tf, delta_t, method)"
   ]
  },
  {
   "cell_type": "markdown",
   "id": "palestinian-tumor",
   "metadata": {},
   "source": []
  },
  {
   "cell_type": "code",
   "execution_count": 10,
   "id": "tamil-influence",
   "metadata": {},
   "outputs": [],
   "source": [
    "def error(deltat_values, method):\n",
    "    errors = []\n",
    "    for delta_t in deltat_values:\n",
    "        errors.append(solve_ode(lambda x,t: x, 1, 0, 1, timestep, method))\n",
    "        return error"
   ]
  },
  {
   "cell_type": "code",
   "execution_count": 11,
   "id": "younger-straight",
   "metadata": {},
   "outputs": [],
   "source": [
    "def solve2nd_ode():\n",
    "    \"\"\"Generate numerical solution for x'' = -x\n",
    "\n",
    "    Returns (t, x, v) ready for plotting.\n",
    "    \"\"\"\n",
    "    #\n",
    "    # The ODE and ICs give the initial value problem (IVP)\n",
    "    #\n",
    "    #   x'' = -x,  x(0) = 0, x'(0) = 1\n",
    "    #\n",
    "    # which has the unique solution\n",
    "    #\n",
    "    #   x = sin(t)\n",
    "    #\n",
    "    # To solve numerically we convert ODE to first order form as\n",
    "    #\n",
    "    #   x' = v\n",
    "    #   v' = -x\n",
    "    #\n",
    "    # with the initial conditions\n",
    "    #\n",
    "    #   x(0) = 0\n",
    "    #   v(0) = 1\n",
    "    #\n",
    "    # Now treating this as a vector ODE we have X = (x, v) and\n",
    "    #\n",
    "    #    (x, v)' = (v, -x)\n",
    "    #\n",
    "    # We need to make a function f that can compute the rhs from the vector\n",
    "    # (x, v):\n",
    "    #\n",
    "    #   X' = f(X, t)\n",
    "\n",
    "    def f_shm(X, t):\n",
    "        x, v = X\n",
    "        dxdt = v\n",
    "        dvdt = -x\n",
    "        dXdt = [dxdt, dvdt]\n",
    "        return dXdt\n",
    "\n",
    "    #\n",
    "    # Initial conditions as a vector\n",
    "    #\n",
    "    x0 = 0\n",
    "    v0 = 1\n",
    "    X0 = [x0, v0]\n",
    "\n",
    "    # Solve from t=0 to t=10 and get 200 equally spaced points in the output\n",
    "    t = np.linspace(0, 10, 200)\n",
    "\n",
    "    # Actually compute the solution:\n",
    "    X_solution = odeint(f_shm, X0, t)\n",
    "\n",
    "    # X_solution is a matrix with 200 rows and 2 columns. The first column is\n",
    "    # x and the other is v.\n",
    "    x_solution = X_solution[:, 0]\n",
    "    v_solution = X_solution[:, 1]\n",
    "\n",
    "    return t, x_solution, v_solution\n",
    "\n",
    "\n",
    "def plot_solution(t, x, v):\n",
    "    \"\"\"Produce a figure with timeseries and phasespace plots\"\"\"\n",
    "\n",
    "    # Create a figure with two plotting axes side by side:\n",
    "    fig = plt.figure(figsize=(6, 3))\n",
    "    ax1 = fig.add_axes([0.58, 0.15, 0.35, 0.7])\n",
    "    ax2 = fig.add_axes([0.08, 0.15, 0.35, 0.7])\n",
    "\n",
    "    # Timeseries plot\n",
    "    ax1.set_title('Time series: $x, v$ against $t$')\n",
    "    ax1.plot(t, x, color='green', linewidth=2, label=r'$x$')\n",
    "    ax1.plot(t, v, color='blue', linewidth=2, label=r'$v$')\n",
    "    ax1.set_yticks([-1, 0, 1])\n",
    "    ax1.set_xlabel(r'$t$')\n",
    "    ax1.set_xticks([0, np.pi, 2*np.pi, 3*np.pi])\n",
    "    ax1.set_xticklabels([r'$0$', r'$\\pi$', r'$2\\pi$', r'$3\\pi$'])\n",
    "    ax1.grid()\n",
    "    ax1.legend()\n",
    "\n",
    "    # Phasespace plot\n",
    "    ax2.set_title('Phase space: $v$ against $x$')\n",
    "    ax2.plot(x, v, linewidth=2, color='red')\n",
    "    ax2.set_xlabel(r'$x$')\n",
    "    ax2.set_ylabel(r'$v$', rotation=0)\n",
    "    ax2.set_xticks([-1, 0, 1])\n",
    "    ax2.set_yticks([-1, 0, 1])\n",
    "    ax2.grid()\n",
    "\n",
    "    # Return the figure handle for showing/saving\n",
    "    return fig\n"
   ]
  },
  {
   "cell_type": "code",
   "execution_count": 12,
   "id": "pretty-cornell",
   "metadata": {},
   "outputs": [
    {
     "ename": "NameError",
     "evalue": "name 'odeint' is not defined",
     "output_type": "error",
     "traceback": [
      "\u001b[0;31m---------------------------------------------------------------------------\u001b[0m",
      "\u001b[0;31mNameError\u001b[0m                                 Traceback (most recent call last)",
      "\u001b[0;32m<ipython-input-12-d85bc6ec110d>\u001b[0m in \u001b[0;36m<module>\u001b[0;34m\u001b[0m\n\u001b[0;32m----> 1\u001b[0;31m \u001b[0msolve2nd_ode\u001b[0m\u001b[0;34m(\u001b[0m\u001b[0;34m)\u001b[0m\u001b[0;34m\u001b[0m\u001b[0;34m\u001b[0m\u001b[0m\n\u001b[0m",
      "\u001b[0;32m<ipython-input-11-8fbdda33b4dd>\u001b[0m in \u001b[0;36msolve2nd_ode\u001b[0;34m()\u001b[0m\n\u001b[1;32m     50\u001b[0m \u001b[0;34m\u001b[0m\u001b[0m\n\u001b[1;32m     51\u001b[0m     \u001b[0;31m# Actually compute the solution:\u001b[0m\u001b[0;34m\u001b[0m\u001b[0;34m\u001b[0m\u001b[0;34m\u001b[0m\u001b[0m\n\u001b[0;32m---> 52\u001b[0;31m     \u001b[0mX_solution\u001b[0m \u001b[0;34m=\u001b[0m \u001b[0modeint\u001b[0m\u001b[0;34m(\u001b[0m\u001b[0mf_shm\u001b[0m\u001b[0;34m,\u001b[0m \u001b[0mX0\u001b[0m\u001b[0;34m,\u001b[0m \u001b[0mt\u001b[0m\u001b[0;34m)\u001b[0m\u001b[0;34m\u001b[0m\u001b[0;34m\u001b[0m\u001b[0m\n\u001b[0m\u001b[1;32m     53\u001b[0m \u001b[0;34m\u001b[0m\u001b[0m\n\u001b[1;32m     54\u001b[0m     \u001b[0;31m# X_solution is a matrix with 200 rows and 2 columns. The first column is\u001b[0m\u001b[0;34m\u001b[0m\u001b[0;34m\u001b[0m\u001b[0;34m\u001b[0m\u001b[0m\n",
      "\u001b[0;31mNameError\u001b[0m: name 'odeint' is not defined"
     ]
    }
   ],
   "source": [
    "def error_timestep_plot(error)"
   ]
  },
  {
   "cell_type": "code",
   "execution_count": null,
   "id": "postal-automation",
   "metadata": {},
   "outputs": [],
   "source": []
  }
 ],
 "metadata": {
  "kernelspec": {
   "display_name": "Python 3",
   "language": "python",
   "name": "python3"
  },
  "language_info": {
   "codemirror_mode": {
    "name": "ipython",
    "version": 3
   },
   "file_extension": ".py",
   "mimetype": "text/x-python",
   "name": "python",
   "nbconvert_exporter": "python",
   "pygments_lexer": "ipython3",
   "version": "3.8.5"
  }
 },
 "nbformat": 4,
 "nbformat_minor": 5
}
