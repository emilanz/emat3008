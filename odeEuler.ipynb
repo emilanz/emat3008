{
 "cells": [
  {
   "cell_type": "code",
   "execution_count": 53,
   "id": "forward-hurricane",
   "metadata": {},
   "outputs": [],
   "source": [
    "import numpy as np\n",
    "import matplotlib.pyplot as plt"
   ]
  },
  {
   "cell_type": "code",
   "execution_count": 54,
   "id": "spread-appointment",
   "metadata": {},
   "outputs": [],
   "source": [
    "def euler_step(f, xn, t, tn):\n",
    "    '''f is the right hand side of first order ODE x_dot = f \n",
    "       xn is the inital x value\n",
    "       t is the timestep\n",
    "       tn is initial t value'''\n",
    "    xn_plus1 = xn + f(xn, tn)*t\n",
    "    return xn_plus1"
   ]
  },
  {
   "cell_type": "code",
   "execution_count": 62,
   "id": "asian-terrorism",
   "metadata": {},
   "outputs": [],
   "source": [
    "def solve_to(x0, t0, tn1, delta_tmax,f):\n",
    "    while t0 < tn1: \n",
    "        x0 = euler_step(f, x0, delta_tmax, t0)\n",
    "        t0 = t0 + delta_tmax\n",
    "    return(x0)"
   ]
  },
  {
   "cell_type": "code",
   "execution_count": 87,
   "id": "relevant-registration",
   "metadata": {},
   "outputs": [],
   "source": [
    "def solve_ode(f, delta_t, t):\n",
    "    estimation = solve_to(1,0,t,delta_t,f)\n",
    "    error = (np.exp(1) - estimation)/np.exp(t) *100\n",
    "    print('Euler estimation is', estimation)\n",
    "    print('Error % is', error)"
   ]
  },
  {
   "cell_type": "code",
   "execution_count": 90,
   "id": "amateur-community",
   "metadata": {},
   "outputs": [
    {
     "name": "stdout",
     "output_type": "stream",
     "text": [
      "Euler estimation is [2.715568520651728]\n",
      "Error % is [0.09981702]\n"
     ]
    }
   ],
   "source": [
    "solve_ode(lambda x,t: x, 0.002, 1)"
   ]
  },
  {
   "cell_type": "code",
   "execution_count": null,
   "id": "consecutive-ribbon",
   "metadata": {},
   "outputs": [],
   "source": []
  },
  {
   "cell_type": "code",
   "execution_count": null,
   "id": "intended-unemployment",
   "metadata": {},
   "outputs": [],
   "source": []
  }
 ],
 "metadata": {
  "kernelspec": {
   "display_name": "Python 3",
   "language": "python",
   "name": "python3"
  },
  "language_info": {
   "codemirror_mode": {
    "name": "ipython",
    "version": 3
   },
   "file_extension": ".py",
   "mimetype": "text/x-python",
   "name": "python",
   "nbconvert_exporter": "python",
   "pygments_lexer": "ipython3",
   "version": "3.8.5"
  }
 },
 "nbformat": 4,
 "nbformat_minor": 5
}
