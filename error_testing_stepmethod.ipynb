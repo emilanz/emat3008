{
 "metadata": {
  "language_info": {
   "codemirror_mode": {
    "name": "ipython",
    "version": 3
   },
   "file_extension": ".py",
   "mimetype": "text/x-python",
   "name": "python",
   "nbconvert_exporter": "python",
   "pygments_lexer": "ipython3",
   "version": "3.8.5"
  },
  "orig_nbformat": 2,
  "kernelspec": {
   "name": "python3",
   "display_name": "Python 3",
   "language": "python"
  }
 },
 "nbformat": 4,
 "nbformat_minor": 2,
 "cells": [
  {
   "cell_type": "code",
   "execution_count": 4,
   "metadata": {},
   "outputs": [],
   "source": [
    "from odeSolver import *\n",
    "import numpy as np\n",
    "\n",
    "#function to create timestep error plot of ode method for both euler and rk4\n",
    "def error_delta_t(deltat_values):\n",
    "    errors_euler = [] \n",
    "    errors_rk4 = []\n",
    "    #looping through delta_t values\n",
    "    for delta_t in deltat_values: \n",
    "        %timeit (xe, te) = solve_ode(lambda x,t: x, 1, 0, 1, delta_t, 'euler')\n",
    "        error_euler = (np.exp(te[-1]) - xe[-1])/np.exp(te[-1]) * 100   #\n",
    "        errors_euler.append(error_euler)  #appending error array with every error\n",
    "    for delta_t in deltat_values: \n",
    "        %timeit (x_rk4, t_rk4) = solve_ode(lambda x,t: x, 1, 0, 1, delta_t, 'rk4')\n",
    "        error_rk4 = (np.exp(t_rk4[-1]) - x_rk4[-1])/np.exp(t_rk4[-1]) * 100   #\n",
    "        errors_rk4.append(error_rk4)  #appending error array with every error\n",
    "    return errors_euler, errors_rk4"
   ]
  },
  {
   "cell_type": "code",
   "execution_count": 11,
   "metadata": {},
   "outputs": [
    {
     "output_type": "stream",
     "name": "stdout",
     "text": [
      "Code: solve_ode(lambda x,t: x, 1, 0, 1, 0.01, method)\n",
      " \n",
      "Euler Method:\n",
      "41.2 µs ± 3.79 µs per loop (mean ± std. dev. of 7 runs, 10000 loops each)\n",
      " \n",
      "4th Order Runge-Kutta:\n",
      "91.7 µs ± 1.87 µs per loop (mean ± std. dev. of 7 runs, 10000 loops each)\n"
     ]
    }
   ],
   "source": [
    "print('Code: solve_ode(lambda x,t: x, 1, 0, 1, 0.01, method)')\n",
    "print(' ')\n",
    "print('Euler Method:') \n",
    "%timeit (xe, te) = solve_ode(lambda x,t: x, 1, 0, 1, 0.01, 'euler')\n",
    "print(' ')\n",
    "print('4th Order Runge-Kutta:') \n",
    "%timeit (xe, te) = solve_ode(lambda x,t: x, 1, 0, 1, 0.01, 'rk4')"
   ]
  },
  {
   "cell_type": "code",
   "execution_count": null,
   "metadata": {},
   "outputs": [],
   "source": [
    "%timeit (xe, te) = solve_ode(lambda x,t: x, 1, 0, 1, 0.01, 'rk4')"
   ]
  }
 ]
}